{
  "nbformat": 4,
  "nbformat_minor": 0,
  "metadata": {
    "colab": {
      "name": "Untitled5.ipynb",
      "provenance": [],
      "authorship_tag": "ABX9TyPIWone2SevVJYx8IEWPuaN",
      "include_colab_link": true
    },
    "kernelspec": {
      "name": "python3",
      "display_name": "Python 3"
    },
    "language_info": {
      "name": "python"
    }
  },
  "cells": [
    {
      "cell_type": "markdown",
      "metadata": {
        "id": "view-in-github",
        "colab_type": "text"
      },
      "source": [
        "<a href=\"https://colab.research.google.com/github/mdrizwan7739/python_task/blob/main/Untitled5.ipynb\" target=\"_parent\"><img src=\"https://colab.research.google.com/assets/colab-badge.svg\" alt=\"Open In Colab\"/></a>"
      ]
    },
    {
      "cell_type": "code",
      "execution_count": 2,
      "metadata": {
        "id": "S36b0ptgbBld"
      },
      "outputs": [],
      "source": [
        "import pandas as pd\n",
        "df = pd.read_csv(\"Amazon Scraping - Sheet1.csv\")\n",
        "links = []\n",
        "for row in df.index:\n",
        "    country = df['country'][row]\n",
        "    asin = df['Asin'][row]\n",
        "    url = f\"https://www.amazon.{country}/dp/{asin}\"\n",
        "    links.append(url)"
      ]
    },
    {
      "cell_type": "code",
      "source": [
        "list1=[]\n",
        "# importing libraries\n",
        "from bs4 import BeautifulSoup\n",
        "import requests\n",
        "import json\n",
        "\n",
        "def main(URL):\n",
        "    # opening our output file in append mode\n",
        "    File = open(\"out.csv\", \"a\")\n",
        "    File.write(f\"{URL},\")\n",
        "    # specifying user agent, You can use other user agents\n",
        "    # available on the internet\n",
        "    HEADERS = ({'User-Agent':\n",
        "                'Mozilla/5.0 (X11; Linux x86_64) AppleWebKit/537.36 (KHTML, like Gecko) Chrome/44.0.2403.157 Safari/537.36',\n",
        "                                'Accept-Language': 'en-US, en;q=0.5'})\n",
        "\n",
        "    # Making the HTTP Request\n",
        "    webpage = requests.get(URL, headers=HEADERS)\n",
        "\n",
        "    # Creating the Soup Object containing all data\n",
        "    soup = BeautifulSoup(webpage.content, \"lxml\")\n",
        "\n",
        "    # retrieving product title\n",
        "    try:\n",
        "        # Outer Tag Object\n",
        "        title = soup.find(\"span\",\n",
        "                        attrs={\"id\": 'productTitle'})\n",
        "\n",
        "        # Inner NavigableString Object\n",
        "        title_value = title.string\n",
        "\n",
        "        # Title as a string value\n",
        "        title_string = title_value.strip().replace(',', '')\n",
        "\n",
        "    except AttributeError:\n",
        "        title_string = \"NA\"\n",
        "   \n",
        "    if title_string==\"NA\":\n",
        "        pass\n",
        "    else:\n",
        "       # print(\"product Title = \", title_string)\n",
        "         list1.append( title_string)\n",
        "    # saving the title in the file\n",
        "         File.write(f\"{title_string},\")\n",
        "    # retrieving price\n",
        "         try:\n",
        "            price = soup.find(\n",
        "            \"span\", attrs={'id': 'priceblock_ourprice'}).string.strip().replace(',', '')\n",
        "        # we are omitting unnecessary spaces\n",
        "        # and commas form our string\n",
        "         except AttributeError:\n",
        "            price = \"NA\"\n",
        "            #print(\"Products_price = \", price)\n",
        "            list1.append( price)\n",
        "     # saving\n",
        "            File.write(f\"{price},\")\n",
        "      \n",
        " # retrieving product rating\n",
        "            try:\n",
        "                rating = soup.find(\"i\", attrs={\n",
        "                        'class': 'a-icon a-icon-star a-star-4-5'}).string.strip().replace(',', '')\n",
        "\n",
        "            except AttributeError:\n",
        "\n",
        "                try:\n",
        "                    rating = soup.find(\n",
        "                      \"span\", attrs={'class': 'a-icon-alt'}).string.strip().replace(',', '')\n",
        "                except:\n",
        "                    rating = \"NA\"\n",
        "                #print(\"Overall rating = \", rating)\n",
        "                    list1.append( rating)\n",
        "\n",
        "                    File.write(f\"{rating},\")\n",
        "\n",
        "            try:\n",
        "                review_count = soup.find(\n",
        "                     \"span\", attrs={'id': 'acrCustomerReviewText'}).string.strip().replace(',', '')\n",
        "\n",
        "            except AttributeError:\n",
        "                review_count = \"NA\"\n",
        "                #print(\"Total reviews = \", review_count)\n",
        "                list1.append( review_count)\n",
        "                File.write(f\"{review_count},\")\n",
        "\n",
        "       # print availablility status\n",
        "           # try:\n",
        "               # available = soup.find(\"div\", attrs={'id': 'availability'})\n",
        "               # available = available.find(\"span\").string.strip().replace(',', '')\n",
        "\n",
        "           # except AttributeError:\n",
        "            #    available = \"NA\"\n",
        "             #   print(\"Availability = \", available)\n",
        "\n",
        "    # saving the availability and closing the line\n",
        "               # File.write(f\"{available},\\n\")\n",
        "\n",
        "    # closing the file\n",
        "                File.close()\n",
        "\n",
        "\n",
        "if __name__ == '__main__':\n",
        "# opening our url file to access URLs\n",
        "#     file = open(\"url.txt\", \"r\")\n",
        "\n",
        "    # iterating over the urls\n",
        "    for link in links:\n",
        "        main(link)\n",
        "#print(list1)   \n",
        "ss=json.dumps(list1)     \n",
        "print(ss)"
      ],
      "metadata": {
        "colab": {
          "base_uri": "https://localhost:8080/"
        },
        "id": "jpRxtlBabEfW",
        "outputId": "2277002c-592f-4f9e-d7f2-bf193ae7e285"
      },
      "execution_count": 3,
      "outputs": [
        {
          "output_type": "stream",
          "name": "stdout",
          "text": [
            "[\"Old Spice Shaving Cream - 70 g (original) - Pack of 2\", \"NA\", \"Short Story: Violoncello und Klavier. (Cello-Bibliothek)\", \"NA\", \"NA\", \"Short story (dushkin/hegyi) violon\", \"NA\", \"NA\", \"Concerto grosso g-Moll: Weihnachtskonzert. op. 6/8. 2 Violinen Violoncello Streichorchester und Cembalo. Partitur. (Concertino)\", \"NA\", \"NA\", \"Concerto grosso 8 g opus 6 partitu\", \"NA\", \"NA\", \"Concertino B-Dur: Violine und Orchester. Klavierauszug mit Solostimme. (Edition Schott)\", \"NA\", \"NA\", \"Concertino bes violon\", \"NA\", \"NA\", \"Concerto in E flat \\\"Dumbarton Oaks\\\": f\\u00fcr Kammerorchester. Kammerorchester. Studienpartitur. (Musik unserer Zeit)\", \"NA\", \"NA\", \"Concert es kammerorchester parti musique d'ensemble\", \"NA\", \"NA\", \"Musik f\\u00fcr Kinder: Im F\\u00fcnftonraum. Vol. 1. Singstimme Blockfl\\u00f6te und Schlagzeug. Sing- und Spielpartitur. (Orff-Schulwerk)\", \"NA\", \"Schulwerk vol. 1 (ted.) (orff/keetman)\", \"NA\", \"5 antike Oden: nach Gedichten von Sappho. op. 57. mittlere Frauenstimme Viola und Klavier. mittel. Stimmensatz. (Edition Schott)\", \"NA\", \"NA\", \"Funf antike oden op. 57 -ensemble de partitions\", \"NA\", \"NA\", \"Etuden 1 & 2 orgue\", \"NA\", \"NA\", \"Etuden 1 & 2 orgue\", \"NA\", \"NA\", \"Etuden 1 & 2 orgue: Orgel.\", \"NA\", \"NA\", \"S\\u00e4mtliche Lieder mit Klavierbegleitung: mit Anhang: Fr\\u00fche Lieder und Fragmente. Band 2. Singstimme und Klavier. (Edition Schott Band 2)\", \"NA\", \"NA\", \"Complete songs with piano accompaniment band 2 chant\", \"NA\", \"NA\", \"Orchester-Probespiel Kontrabass: Sammlung wichtiger Passagen aus der Opern- und Konzertliteratur. Kontrabass.\", \"NA\", \"Spielbuch orchestre\", \"NA\", \"Spielbuch orchestre\", \"NA\", \"Wir h\\u00f6ren und spielen: Ein Weg zum absoluten Geh\\u00f6r. Band 3. Klavier.\", \"NA\", \"Wir horen und spielen band 3 piano\", \"NA\", \"Arien(2) (grand macabre) 2e akte\", \"NA\", \"NA\", \"Arien(2) (grand macabre) 2e akte\", \"NA\", \"NA\", \"Fantasie c piano\", \"NA\", \"NA\", \"Fantasie c piano\", \"NA\", \"NA\", \"Le Coucou: Rondeau. Klavier. (Edition Schott Einzelausgabe)\", \"NA\", \"Coucou piano\", \"NA\", \"Adelaide: op. 46. mittlere Singstimme und Klavier. (Edition Schott Einzelausgabe)\", \"NA\", \"Adelaide op.46\", \"NA\", \"Cavatine: op. 85/3. Violine (Violoncello) und Klavier. (Edition Schott Einzelausgabe)\", \"NA\", \"NA\", \"Cavatine opus 85/3 violon\", \"NA\", \"NA\", \"Gnomenreigen: Konzert-Et\\u00fcde. Klavier. (Edition Schott Einzelausgabe)\", \"NA\", \"Gnomenreigen piano\", \"NA\", \"Moto perpetuo: op. 11. Violine und Klavier. (Edition Schott Einzelausgabe)\", \"NA\", \"Moto perpetuo violon\", \"NA\", \"Happy Birthday: Humoristische Variationen \\u00fcber ein Geburtstagslied. Klavier 4-h\\u00e4ndig. (Edition Schott Einzelausgabe)\", \"NA\", \"Happy birthday piano\", \"NA\", \"6 Duos: op. 1. 2 Fl\\u00f6ten. Spielpartitur. (Edition Schott)\", \"NA\", \"Duos(6) opus 1 flute traversiere\", \"NA\", \"Cs\\u00e1rd\\u00e1s-Kompositionen: Klarinette und Klavier. (Edition Schott)\", \"NA\", \"Csardas-kompositionen clarinette\", \"NA\", \"S\\u00e9r\\u00e9nade espagnole: Violine und Klavier. (Edition Schott Nr. 26)\", \"NA\", \"NA\", \"Serenata spagnola (kreisler) violon\", \"NA\", \"NA\", \"Eingedunkelt: Neun Gedichte nach Paul Celan. Alt-Solo. Alt.\", \"NA\", \"NA\", \"Eingedunkelt\", \"NA\", \"NA\", \"Viola Spaces: Contemporary Viola Studies. Band 1. Viola. (Essential Exercises Band 1)\", \"NA\", \"NA\", \"Viola spaces vol. 1 alto\", \"NA\", \"NA\", \"Klaviertrio G-Dur Hob XV:15 (EB 1131)\", \"NA\", \"NA\", \"Klavier-trio g-dur hob xv: 15\", \"NA\", \"NA\", \"VIOLINKONZERT 2 D-DUR KV 211\", \"NA\", \"NA\", \"Violinkonzert 2 d-dur kv 211\", \"NA\", \"NA\", \"2 divertimenti kv 252 kv 240\", \"NA\", \"NA\", \"2 leichte Divertimenti f\\u00fcr Violine (Oboe) Cello (Fagott) und Klavier - Es-dur KV 252 (240a) und B-dur KV 240 - Bearbeitung (EB 3810)\", \"NA\", \"NA\", \"Il Re pastore KV 208 - L'amer\\u00f2 sar\\u00f2 costante - Arie der Aminta - Ausgabe f\\u00fcr Sorpan Violine und Klavier (EB 5473)\", \"NA\", \"NA\", \"L'amero/dein bin ich kv 208\", \"NA\", \"NA\", \"Sonate op. 41 - Ausgabe f\\u00fcr Fagott und Klavier (EB 5567)\", \"NA\", \"NA\", \"Sonate op. 41 basson\", \"NA\", \"NA\", \"Quintett B-dur op. 34 - Breitkopf Urtext - Stimmensatz (EB 5830)\", \"NA\", \"NA\", \"Quintett b-dur op. 34 clarinette\", \"NA\", \"NA\", \"Sonate B-dur f\\u00fcr Fl\\u00f6te und Klavier (EB 5879)\", \"NA\", \"NA\", \"Sonate bes flute traversiere\", \"NA\", \"NA\", \"Chaconne d-moll aus bwv 1004\", \"NA\", \"NA\", \"Chaconne aus der Partita II d-moll BWV 1004 Bearbeitung f\\u00fcr Cembalo (EB 6594)\", \"NA\", \"NA\", \"LITANIAE DE VENERABILI KV 243\", \"NA\", \"NA\", \"Litaniae de venerabili kv 243\", \"NA\", \"NA\", \"Kantate 2 Ach Gott Vom\", \"NA\", \"NA\", \"Kantate 2 ach gott vom\", \"NA\", \"NA\", \"Kantate 19 es erhub sich ein\", \"NA\", \"NA\", \"Kantate 52 Falsche Welt Dir\", \"NA\", \"KANTATE 083 ERFREUTE ZEIT IM\", \"NA\", \"NA\", \"Kantate 86 Wahrlich Wahrlich\", \"NA\", \"NA\", \"Kantate 86 wahrlich wahrlich\", \"NA\", \"NA\", \"Kantate 117 Sie Lob Und Ehr\", \"NA\", \"NA\", \"L'arlesienne-suite nr. 2 orchestre\", \"NA\", \"NA\"]\n"
          ]
        }
      ]
    },
    {
      "cell_type": "code",
      "source": [
        ""
      ],
      "metadata": {
        "id": "h4YKxRY0bP-P"
      },
      "execution_count": null,
      "outputs": []
    }
  ]
}